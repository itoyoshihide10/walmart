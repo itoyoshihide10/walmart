{
 "cells": [
  {
   "cell_type": "markdown",
   "metadata": {},
   "source": [
    "# 自分で作成をした特徴量がメイン"
   ]
  },
  {
   "cell_type": "markdown",
   "metadata": {},
   "source": [
    "# 参考にしたurl\n",
    "【随時更新】Kaggleテーブルデータコンペできっと役立つTipsまとめ  \n",
    "https://naotaka1128.hatenadiary.jp/entry/kaggle-compe-tips  \n",
    "最近のKaggleに学ぶテーブルデータの特徴量エンジニアリング\n",
    "https://www.slideshare.net/mlm_kansai/kaggle-138546659"
   ]
  },
  {
   "cell_type": "markdown",
   "metadata": {},
   "source": [
    "### ライブラリのimport"
   ]
  },
  {
   "cell_type": "code",
   "execution_count": null,
   "metadata": {},
   "outputs": [],
   "source": [
    "import gc\n",
    "import os\n",
    "import warnings\n",
    "\n",
    "import pandas as pd\n",
    "from pandas.plotting import register_matplotlib_converters\n",
    "import numpy as np\n",
    "import matplotlib.pyplot as plt\n",
    "import seaborn as sns\n",
    "import lightgbm as lgb\n",
    "from sklearn.metrics import mean_squared_error\n",
    "from sklearn.preprocessing import LabelEncoder\n",
    "from datetime import datetime,timedelta\n",
    "import pickle\n",
    "import os, sys, gc, time, warnings, pickle, psutil, random\n",
    "from scipy import stats\n",
    "from scipy.special import inv_boxcox\n",
    "from typing import Tuple\n",
    "from datetime import timedelta\n",
    "import psutil\n",
    "\n",
    "# custom imports\n",
    "from multiprocessing import Pool        # Multiprocess Runs\n",
    "\n",
    "warnings.filterwarnings('ignore')"
   ]
  },
  {
   "cell_type": "markdown",
   "metadata": {},
   "source": [
    "### メモリの使用量の制限"
   ]
  },
  {
   "cell_type": "code",
   "execution_count": null,
   "metadata": {},
   "outputs": [],
   "source": [
    "#これは使い回しができるはず！\n",
    "def reduce_mem_usage(df, verbose=True):\n",
    "    numerics = [\"int16\", \"int32\", \"int64\", \"float16\", \"float32\", \"float64\"]\n",
    "    start_mem = df.memory_usage().sum() / 1024 ** 2\n",
    "    for col in df.columns:\n",
    "        col_type = df[col].dtypes\n",
    "        if col_type in numerics:\n",
    "            c_min = df[col].min()\n",
    "            c_max = df[col].max()\n",
    "            if str(col_type)[:3] == \"int\":\n",
    "                if c_min > np.iinfo(np.int8).min and c_max < np.iinfo(np.int8).max:\n",
    "                    df[col] = df[col].astype(np.int8)\n",
    "                elif c_min > np.iinfo(np.int16).min and c_max < np.iinfo(np.int16).max:\n",
    "                    df[col] = df[col].astype(np.int16)\n",
    "                elif c_min > np.iinfo(np.int32).min and c_max < np.iinfo(np.int32).max:\n",
    "                    df[col] = df[col].astype(np.int32)\n",
    "                elif c_min > np.iinfo(np.int64).min and c_max < np.iinfo(np.int64).max:\n",
    "                    df[col] = df[col].astype(np.int64)\n",
    "            else:\n",
    "                if (\n",
    "                    c_min > np.finfo(np.float16).min\n",
    "                    and c_max < np.finfo(np.float16).max\n",
    "                ):\n",
    "                    df[col] = df[col].astype(np.float16)\n",
    "                elif (\n",
    "                    c_min > np.finfo(np.float32).min\n",
    "                    and c_max < np.finfo(np.float32).max\n",
    "                ):\n",
    "                    df[col] = df[col].astype(np.float32)\n",
    "                else:\n",
    "                    df[col] = df[col].astype(np.float64)\n",
    "    end_mem = df.memory_usage().sum() / 1024 ** 2\n",
    "    if verbose:\n",
    "        print(\n",
    "            \"Mem. usage decreased to {:5.2f} Mb ({:.1f}% reduction)\".format(\n",
    "                end_mem, 100 * (start_mem - end_mem) / start_mem\n",
    "            )\n",
    "        )\n",
    "    return df\n",
    "#実際に使う場合はこれを書く。\n",
    "#df=df.pipe(reduce_mem_usage())"
   ]
  },
  {
   "cell_type": "markdown",
   "metadata": {},
   "source": [
    "### メモリの使用量の確認"
   ]
  },
  {
   "cell_type": "code",
   "execution_count": null,
   "metadata": {},
   "outputs": [],
   "source": [
    "import psutil\n",
    "mem = psutil.virtual_memory() \n",
    "print(mem.percent)"
   ]
  },
  {
   "cell_type": "markdown",
   "metadata": {},
   "source": [
    "### なにがメモリを食っているかを確認が出来る関数"
   ]
  },
  {
   "cell_type": "code",
   "execution_count": null,
   "metadata": {},
   "outputs": [],
   "source": [
    "def print_varsize():\n",
    "    import types\n",
    "    print(\"{}{: >15}{}{: >10}{}\".format('|','Variable Name','|','  Size','|'))\n",
    "    print(\" -------------------------- \")\n",
    "    for k, v in globals().items():\n",
    "        if hasattr(v, 'size') and not k.startswith('_') and not isinstance(v,types.ModuleType):\n",
    "            print(\"{}{: >15}{}{: >10}{}\".format('|',k,'|',str(v.size),'|'))\n",
    "        elif hasattr(v, '__len__') and not k.startswith('_') and not isinstance(v,types.ModuleType):\n",
    "            print(\"{}{: >15}{}{: >10}{}\".format('|',k,'|',str(len(v)),'|'))\n",
    "print_varsize()"
   ]
  },
  {
   "cell_type": "markdown",
   "metadata": {},
   "source": [
    "### 複数のデータを取り込む"
   ]
  },
  {
   "cell_type": "code",
   "execution_count": null,
   "metadata": {},
   "outputs": [],
   "source": [
    "#データの読み込みを行う→これは既にevaluationに変わっている\n",
    "def get_data_by_store():\n",
    "    df = pd.concat([pd.read_pickle('grid_part_1.pkl'),\n",
    "                    pd.read_pickle('itou_lag.pkl'),\n",
    "                    pd.read_pickle('itou_laglog.pkl')],\n",
    "                    axis=1)\n",
    "    df = df[df['store_id']==store]\n",
    "    df2 = pd.read_pickle('mean_encoding.pkl')[mean_features]\n",
    "    df2 = df2[df2.index.isin(df.index)]\n",
    "    \n",
    "    df3 = pd.read_pickle('lags_df_28.pkl').iloc[:,3:]\n",
    "    df3 = df3[df3.index.isin(df.index)]\n",
    "    \n",
    "    df = pd.concat([df, df2], axis=1)\n",
    "    del df2 \n",
    "    \n",
    "    df = pd.concat([df, df3], axis=1)\n",
    "    del df3 \n",
    "    \n",
    "    \n",
    "    #実際にlightgbmを動かすときにはいらないので注意が必要\n",
    "    features = [col for col in list(df) if col not in remove_features]\n",
    "    df = df[['id','d',TARGET]+features]\n",
    "    \n",
    "    #ここの設定をいくつにするか問題はある！\n",
    "    df = df[df['d']>=START_TRAIN].reset_index(drop=True)\n",
    "    \n",
    "    return df"
   ]
  },
  {
   "cell_type": "markdown",
   "metadata": {},
   "source": [
    "### 時系列データの処理"
   ]
  },
  {
   "cell_type": "markdown",
   "metadata": {},
   "source": [
    "数字データを時系列データに変換する"
   ]
  },
  {
   "cell_type": "code",
   "execution_count": null,
   "metadata": {},
   "outputs": [],
   "source": [
    "#日付に関する特徴量を作成するには年の表記を元に戻さないといけない\n",
    "tm_y=[0,1,2,3,4,5]\n",
    "year=[2011,2012,2013,2014,2015,2016]\n",
    "#年数を普通の西暦に直す\n",
    "ddf['year']=ddf['tm_y'].replace(tm_y,year)\n",
    "#年の表記の仕方も変える\n",
    "ddf['year']=ddf['year'].astype(str)\n",
    "#月の表記の仕方を変える。例えば6→06に！\n",
    "ddf['month']=[n.zfill(2) for n in ddf['tm_m'].astype(str)]\n",
    "#日にちの表記の仕方を変える\n",
    "ddf['date']=[n.zfill(2) for n in ddf['tm_d'].astype(str)]\n",
    "#数字から時系列データに戻す\n",
    "ddf['datetime'] = pd.to_datetime(ddf['year']+ddf['month']+ddf['date'], format='%Y%m%d')"
   ]
  },
  {
   "cell_type": "markdown",
   "metadata": {},
   "source": [
    "日付のデータから基本的な時系列データの作成"
   ]
  },
  {
   "cell_type": "code",
   "execution_count": null,
   "metadata": {},
   "outputs": [],
   "source": [
    "#日付に関するデータ作成\n",
    "date_features = {\n",
    "            \"wday\": \"weekday\",\n",
    "            \"week\": \"weekofyear\",\n",
    "            \"month\": \"month\",\n",
    "            \"quarter\": \"quarter\",\n",
    "            \"year\": \"year\",\n",
    "            \"mday\": \"day\",\n",
    "            #多分weekdayと値は同じになる予想\n",
    "            \"dayofweek\":\"dayofweek\",\n",
    "            \"is_year_end\":\"is_year_end\",\n",
    "            \"is_year_start\":\"is_year_start\",\n",
    "            \"is_quarter_end\":\"is_quarter_end\",\n",
    "            \"is_quarter_start\":\"is_quarter_start\",\n",
    "            \"is_month_end\":\"is_month_end\",\n",
    "            \"is_month_start\":\"is_month_start\",\n",
    "        }\n",
    "#date_featuresを事前に設定をしておいて、特徴的な時系列データを特徴量に加える\n",
    "for date_feat_name, date_feat_func in date_features.items():\n",
    "        #date_featuresにも元データにもあるものは'int16'にしてデータのメモリを抑える\n",
    "    if date_feat_name in ddf.columns:\n",
    "        ddf[date_feat_name] = ddf[date_feat_name].astype(\"int16\")\n",
    "        #date_featuresの中でないやつは新しく作成をする。\n",
    "        #→ないのはweek,quarter,mday,daofweek以降のやつ\n",
    "    else:\n",
    "        ddf[date_feat_name] = getattr(ddf[\"datetime\"].dt, date_feat_func).astype(\"int16\")"
   ]
  },
  {
   "cell_type": "markdown",
   "metadata": {},
   "source": [
    "季節に関する特徴量"
   ]
  },
  {
   "cell_type": "code",
   "execution_count": null,
   "metadata": {},
   "outputs": [],
   "source": [
    "#季節に関する特徴量！'tm_m'には月ごとの数値が入っている。\n",
    "ddf['season']=0\n",
    "ddf['season']=[1 if 3<=n<=5 else 2 if 6<=n <=8 else 3 if 9<=n <=11 else 4 for n in ddf['tm_m']]"
   ]
  },
  {
   "cell_type": "markdown",
   "metadata": {},
   "source": [
    "### 汎用的な特徴量作成"
   ]
  },
  {
   "cell_type": "markdown",
   "metadata": {},
   "source": [
    "0かどうかをcountする"
   ]
  },
  {
   "cell_type": "code",
   "execution_count": null,
   "metadata": {},
   "outputs": [],
   "source": [
    "#np.whereはif文とかなり特徴が似ている\n",
    "ddf[\"release_0\"]=np.where(ddf[\"release\"]==0,1,0) \n",
    "#出来ればお店の種類ごとにやりたいと想ったが既にお店ごとに分けているやつ\n",
    "ddf[\"release_0_count\"]=ddf.groupby([\"id\"])[\"release_0\"].transform('count')"
   ]
  },
  {
   "cell_type": "markdown",
   "metadata": {},
   "source": [
    "ある値かどうかを内包表記を使って変数の作成"
   ]
  },
  {
   "cell_type": "code",
   "execution_count": null,
   "metadata": {},
   "outputs": [],
   "source": [
    "#新発売ならば1を立てる！→直近1週間とかも出来そう！\n",
    "ddf['weekly_release']=[1 if 1<=n<=7 else 0 for n in ddf['release']]\n",
    "ddf['monthly_release']=[1 if 1<=n<=30 else 0 for n in ddf['release']]\n",
    "ddf['after_release']=[1 if 1<=n<=30 else 0 for n in ddf['release']]"
   ]
  },
  {
   "cell_type": "markdown",
   "metadata": {},
   "source": [
    "カテゴリー変数に対してダミー変数を作成する"
   ]
  },
  {
   "cell_type": "code",
   "execution_count": null,
   "metadata": {},
   "outputs": [],
   "source": [
    "#get_dummiesでone-hot-encoderが出来た！\n",
    "#prefixで列名の指定が可能である。\n",
    "tmp1 = pd.get_dummies(ddf['event_name_1'], prefix='event')\n",
    "tmp2 = pd.get_dummies(ddf['event_name_2'], prefix='event')"
   ]
  },
  {
   "cell_type": "markdown",
   "metadata": {},
   "source": [
    "小数点以下だけ取り出した変数の作成   \n",
    "→4ドルと3.98ドルは人間心理的にぜんぜん違うよ"
   ]
  },
  {
   "cell_type": "code",
   "execution_count": null,
   "metadata": {},
   "outputs": [],
   "source": [
    "#整数のみの特徴量を作成する\n",
    "ddf['sell_price_int']=ddf['sell_price'].astype('int16')\n",
    "# 商品価格について小数点以下のみを残す。購買意欲に関わるはず。\n",
    "ddf['sell_price_float']=ddf['sell_price']-ddf['sell_price_int']\n",
    "del ddf['sell_price_int']"
   ]
  },
  {
   "cell_type": "markdown",
   "metadata": {},
   "source": [
    "累積和を使いたいとき  \n",
    "→今回で言うとsalesの平均値とのブレを一定期間で測ってみるみたいなこと"
   ]
  },
  {
   "cell_type": "code",
   "execution_count": null,
   "metadata": {},
   "outputs": [],
   "source": [
    "ddf['difference_price1_cumsum']= ddf.groupby('id')['price_change_cat'].cumsum()"
   ]
  },
  {
   "cell_type": "markdown",
   "metadata": {},
   "source": [
    "targetencoding  \n",
    "→普通にleakageを起こすので注意をする"
   ]
  },
  {
   "cell_type": "code",
   "execution_count": null,
   "metadata": {},
   "outputs": [],
   "source": [
    "#'id'以外のカテゴリ間の平均値の算出\n",
    "mean_encoding_combination = [\n",
    "    ['dept_id'], \n",
    "    ['item_id'], \n",
    "    ['dept_id','tm_y'], \n",
    "    ['item_id','tm_y'],\n",
    "    ['dept_id', 'tm_m'],\n",
    "    ['dept_id', 'tm_m', 'tm_dw'],\n",
    "    ['dept_id', 'tm_dw' ,'snap_CA'],\n",
    "    ['dept_id', 'tm_dw' ,'snap_TX'],\n",
    "    ['dept_id', 'tm_dw' ,'snap_WI']\n",
    "]\n",
    "#実際に作成をしていく\n",
    "for col in mean_encoding_combination:\n",
    "    print(col, 'encoding')\n",
    "    colnm1 = '_'.join(col)+'_mean_cat'\n",
    "    colnm2 = '_'.join(col)+'_std_cat'\n",
    "    ddf[colnm1] = ddf.groupby(col)['sell_price'].transform(lambda x:x.mean())\n",
    "    ddf[colnm2] = ddf.groupby(col)['sell_price'].transform(lambda x:x.std())"
   ]
  },
  {
   "cell_type": "markdown",
   "metadata": {},
   "source": [
    "lag特徴量の作成"
   ]
  },
  {
   "cell_type": "code",
   "execution_count": null,
   "metadata": {},
   "outputs": [],
   "source": [
    "lag_list=[7,28]\n",
    "for lag in lag_list:\n",
    "    #7日おきにlag変数を作成が出来る\n",
    "    ddf[f'sales_lag_{lag}'] = ddf.groupby(['id'])['sales'].transform(lambda x: x.shift(lag)).astype(np.float16)"
   ]
  },
  {
   "cell_type": "markdown",
   "metadata": {},
   "source": [
    "groupbyによる基本特徴量の作成"
   ]
  },
  {
   "cell_type": "markdown",
   "metadata": {},
   "source": [
    "歪度(Skewness)と尖度(Kurtosis)  \n",
    "歪度(Skewness) : 分布の非対称性を示す指標。  \n",
    "値が正であると分布が右に伸びている。逆に負であると左に伸びている。\n",
    "\n",
    "尖度(Kurtosis) : 正規分布を基準とした分布の鋭さの指標。  \n",
    "正規分布の尖度を0と定義する場合と3と定義する場合がある。基準である正規分布の尖度よりも大きければ分布は尖っており、小さければ緩やかな分布である。"
   ]
  },
  {
   "cell_type": "code",
   "execution_count": null,
   "metadata": {},
   "outputs": [],
   "source": [
    "ddf['sales_mean'] = ddf.groupby(['id'])['sales'].transform(lambda x: x.mean()).astype(np.float16)\n",
    "ddf['sales_std'] = ddf.groupby(['id'])['sales'].transform(lambda x: x.std()).astype(np.float16)\n",
    "ddf['sales_max'] = ddf.groupby(['id'])['sales'].transform(lambda x: x.max()).astype(np.float16)\n",
    "df['sales_min'] = ddf.groupby(['id'])['sales'].transform(lambda x: x.min()).astype(np.float16)\n",
    "ddf['sales_kurt'] = ddf.groupby(['id'])['sales'].transform(lambda x: x.kurt()).astype(np.float16)\n",
    "ddf['sales_skew'] = ddf.groupby(['id'])['sales'].transform(lambda x: x.skew()).astype(np.float16)"
   ]
  },
  {
   "cell_type": "markdown",
   "metadata": {},
   "source": [
    "移動平均を用いた特徴量の作成"
   ]
  },
  {
   "cell_type": "code",
   "execution_count": null,
   "metadata": {},
   "outputs": [],
   "source": [
    "#lag28を基準にrollingさせて,基本統計量を算出\n",
    "d_window=[28,56]\n",
    "for d in d_window:\n",
    "    print(d)\n",
    "    ddf[f'log28_mean_{d}'] = ddf.groupby(['id'])['logs_28'].transform(lambda x: x.rolling(d).mean()).astype(np.float16)\n",
    "    ddf[f'log28_std_{d}'] = ddf.groupby(['id'])['logs_28'].transform(lambda x: x.rolling(d).std()).astype(np.float16)\n",
    "    #ここから下はやる意味あるかは微妙\n",
    "    ddf[f'log28_max_{d}'] = ddf.groupby(['id'])['logs_28'].transform(lambda x: x.rolling(d).max()).astype(np.float16)\n",
    "    ddf[f'log28_min_{d}'] = ddf.groupby(['id'])['logs_28'].transform(lambda x: x.rolling(d).min()).astype(np.float16)\n",
    "    ddf[f'log28_kurt_{d}'] = ddf.groupby(['id'])['logs_28'].transform(lambda x: x.rolling(d).kurt()).astype(np.float16)\n",
    "    ddf[f'log28_skew_{d}'] = ddf.groupby(['id'])['logs_28'].transform(lambda x: x.rolling(d).skew()).astype(np.float16)"
   ]
  },
  {
   "cell_type": "markdown",
   "metadata": {},
   "source": [
    "対数変換  \n",
    "→対数変換をする意味はこれhttps://atarimae.biz/archives/13161"
   ]
  },
  {
   "cell_type": "code",
   "execution_count": null,
   "metadata": {},
   "outputs": [],
   "source": [
    "#目的は外れ値の影響を受けづらくして、時系列の変化をとらえやすくするため。\n",
    "def log_transformation(x: pd.Series) -> pd.Series:\n",
    "    # Function np.log1p = log(x + 1)\n",
    "    return np.log1p(x)\n",
    "#直近2週間のlagデータって使えそうだが、まだなかったので作っておく\n",
    "lag_list=[7,28]\n",
    "for i in lag_list:\n",
    "    ddf[f'sales_lag_{i}'] = ddf.groupby(['id'])['sales'].transform(lambda x: x.shift(i)).astype(np.float16) "
   ]
  },
  {
   "cell_type": "markdown",
   "metadata": {},
   "source": [
    "### データの保存"
   ]
  },
  {
   "cell_type": "code",
   "execution_count": null,
   "metadata": {},
   "outputs": [],
   "source": [
    "#ここを新規に作成をした列のみにする\n",
    "ddf_time=ddf.iloc[:,30:].pipe(reduce_mem_usage)\n",
    "#pklファイルとして保存をしておく\n",
    "ddf_time.to_pickle('itou_time.pkl')"
   ]
  },
  {
   "cell_type": "markdown",
   "metadata": {},
   "source": [
    "### メモリの使用量の管理"
   ]
  },
  {
   "cell_type": "code",
   "execution_count": null,
   "metadata": {},
   "outputs": [],
   "source": [
    "# メモリ使用率を取得\n",
    "mem = psutil.virtual_memory() \n",
    "print(mem.percent)\n",
    "#なにがメモリを食っているかを確認することが出来る\n",
    "def print_varsize():\n",
    "    import types\n",
    "    print(\"{}{: >15}{}{: >10}{}\".format('|','Variable Name','|','  Size','|'))\n",
    "    print(\" -------------------------- \")\n",
    "    for k, v in globals().items():\n",
    "        if hasattr(v, 'size') and not k.startswith('_') and not isinstance(v,types.ModuleType):\n",
    "            print(\"{}{: >15}{}{: >10}{}\".format('|',k,'|',str(v.size),'|'))\n",
    "        elif hasattr(v, '__len__') and not k.startswith('_') and not isinstance(v,types.ModuleType):\n",
    "            print(\"{}{: >15}{}{: >10}{}\".format('|',k,'|',str(len(v)),'|'))\n",
    "print_varsize()"
   ]
  }
 ],
 "metadata": {
  "kernelspec": {
   "display_name": "Python 3",
   "language": "python",
   "name": "python3"
  },
  "language_info": {
   "codemirror_mode": {
    "name": "ipython",
    "version": 3
   },
   "file_extension": ".py",
   "mimetype": "text/x-python",
   "name": "python",
   "nbconvert_exporter": "python",
   "pygments_lexer": "ipython3",
   "version": "3.7.3"
  }
 },
 "nbformat": 4,
 "nbformat_minor": 2
}
